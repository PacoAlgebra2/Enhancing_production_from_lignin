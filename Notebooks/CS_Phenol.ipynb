{
 "cells": [
  {
   "cell_type": "code",
   "execution_count": 1,
   "metadata": {
    "scrolled": true
   },
   "outputs": [],
   "source": [
    "import cobra\n",
    "import time\n",
    "import numpy as np\n",
    "import more_itertools as mi\n",
    "import multiprocessing as mp"
   ]
  },
  {
   "cell_type": "code",
   "execution_count": null,
   "metadata": {},
   "outputs": [],
   "source": []
  },
  {
   "cell_type": "code",
   "execution_count": 2,
   "metadata": {},
   "outputs": [],
   "source": [
    "from cobra.flux_analysis import (\n",
    "    single_gene_deletion, single_reaction_deletion, double_gene_deletion,\n",
    "    double_reaction_deletion)"
   ]
  },
  {
   "cell_type": "code",
   "execution_count": 3,
   "metadata": {},
   "outputs": [],
   "source": [
    "from cobra import Model, Reaction, Metabolite"
   ]
  },
  {
   "cell_type": "code",
   "execution_count": 4,
   "metadata": {},
   "outputs": [],
   "source": [
    "start=time.time()"
   ]
  },
  {
   "cell_type": "code",
   "execution_count": 5,
   "metadata": {},
   "outputs": [],
   "source": [
    "cobra.Configuration().solver=\"cplex\""
   ]
  },
  {
   "cell_type": "code",
   "execution_count": 6,
   "metadata": {},
   "outputs": [
    {
     "name": "stdout",
     "output_type": "stream",
     "text": [
      "CPU times: user 710 ms, sys: 13.2 ms, total: 723 ms\n",
      "Wall time: 734 ms\n"
     ]
    }
   ],
   "source": [
    "%%time\n",
    "model=cobra.io.read_sbml_model(\"./iNovo_base_2022.xml\")"
   ]
  },
  {
   "cell_type": "code",
   "execution_count": 9,
   "metadata": {},
   "outputs": [],
   "source": [
    "sol=model.optimize()"
   ]
  },
  {
   "cell_type": "code",
   "execution_count": null,
   "metadata": {},
   "outputs": [],
   "source": []
  },
  {
   "cell_type": "code",
   "execution_count": null,
   "metadata": {},
   "outputs": [],
   "source": []
  },
  {
   "cell_type": "code",
   "execution_count": 7,
   "metadata": {},
   "outputs": [],
   "source": [
    "model2=model.copy()"
   ]
  },
  {
   "cell_type": "code",
   "execution_count": 12,
   "metadata": {},
   "outputs": [
    {
     "data": {
      "text/html": [
       "\n",
       "        <table>\n",
       "            <tr>\n",
       "                <td><strong>Reaction identifier</strong></td><td>EX_exVA</td>\n",
       "            </tr><tr>\n",
       "                <td><strong>Name</strong></td><td>vanillic acid exchange</td>\n",
       "            </tr><tr>\n",
       "                <td><strong>Memory address</strong></td>\n",
       "                <td>0x7fe654fc1dd8</td>\n",
       "            </tr><tr>\n",
       "                <td><strong>Stoichiometry</strong></td>\n",
       "                <td>\n",
       "                    <p style='text-align:right'>exVA <--</p>\n",
       "                    <p style='text-align:right'>vanillic acid <--</p>\n",
       "                </td>\n",
       "            </tr><tr>\n",
       "                <td><strong>GPR</strong></td><td></td>\n",
       "            </tr><tr>\n",
       "                <td><strong>Lower bound</strong></td><td>-1000.0</td>\n",
       "            </tr><tr>\n",
       "                <td><strong>Upper bound</strong></td><td>0.0</td>\n",
       "            </tr>\n",
       "        </table>\n",
       "        "
      ],
      "text/plain": [
       "<Reaction EX_exVA at 0x7fe654fc1dd8>"
      ]
     },
     "execution_count": 12,
     "metadata": {},
     "output_type": "execute_result"
    }
   ],
   "source": [
    "r=model2.reactions.get_by_id(\"EX_\"+lista[1])\n",
    "r"
   ]
  },
  {
   "cell_type": "code",
   "execution_count": null,
   "metadata": {},
   "outputs": [],
   "source": []
  },
  {
   "cell_type": "code",
   "execution_count": 13,
   "metadata": {},
   "outputs": [],
   "source": [
    "lista=['exC00031', 'exVA','expHBA' , 'exSA', 'exS',  'exPCA', 'exV', 'exFA', 'exGDK', 'exSDK', 'exSSGGE', 'exSRGGE', 'exRSGGE', 'exRRGGE']"
   ]
  },
  {
   "cell_type": "code",
   "execution_count": 24,
   "metadata": {},
   "outputs": [],
   "source": [
    "for i in range(2,len(lista)):\n",
    "    r=model2.reactions.get_by_id(\"EX_\"+lista[i])\n",
    "    r.lower_bound=0\n",
    "r=model2.reactions.get_by_id(\"EX_\"+lista[0])\n",
    "r.lower_bound=-2\n",
    "r=model2.reactions.get_by_id(\"EX_\"+lista[1])\n",
    "r.lower_bound=0"
   ]
  },
  {
   "cell_type": "code",
   "execution_count": 15,
   "metadata": {},
   "outputs": [],
   "source": [
    "reaction = Reaction('ExportaPDC')\n",
    "reaction.compartment = 'e'\n",
    "reaction.lower_bound = 0.  # This is the default\n",
    "reaction.upper_bound = 1000.  # This is the default\n",
    "reaction.add_metabolites({\n",
    "    model2.metabolites.exPDC: -1.0,\n",
    "})\n",
    "model2.add_reactions([reaction])"
   ]
  },
  {
   "cell_type": "code",
   "execution_count": 16,
   "metadata": {},
   "outputs": [],
   "source": [
    "for j in range(len(model2.reactions)):\n",
    "    r=model2.reactions[j]\n",
    "    if r.id==\"biomass\":\n",
    "        biomass=j\n",
    "    if r.id==\"ExportaPDC\":\n",
    "        objetivo=j"
   ]
  },
  {
   "cell_type": "code",
   "execution_count": 25,
   "metadata": {},
   "outputs": [
    {
     "data": {
      "text/plain": [
       "0.24374020525258303"
      ]
     },
     "execution_count": 25,
     "metadata": {},
     "output_type": "execute_result"
    }
   ],
   "source": [
    "model2.objective=model2.reactions[biomass]\n",
    "model2.objective_direction=\"max\"\n",
    "model2.slim_optimize()"
   ]
  },
  {
   "cell_type": "code",
   "execution_count": 18,
   "metadata": {},
   "outputs": [],
   "source": [
    "nombres_genes=[\"SARO_RS14300\",\"Saro_2864\",\"SARO_RS14530\"]"
   ]
  },
  {
   "cell_type": "code",
   "execution_count": 21,
   "metadata": {},
   "outputs": [
    {
     "name": "stdout",
     "output_type": "stream",
     "text": [
      "<Solution 0.000 at 0x7fe654be3710>\n"
     ]
    }
   ],
   "source": [
    "with model2:\n",
    "    model2.reactions[biomass].lower_bound=0.1\n",
    "    for nombre in nombres_genes:\n",
    "        model2.genes.get_by_id(nombre).knock_out()\n",
    "    model2.objective=model2.reactions[objetivo]\n",
    "    sol=model2.optimize(objective_sense=\"minimize\")\n",
    "    print(sol)"
   ]
  },
  {
   "cell_type": "code",
   "execution_count": 13,
   "metadata": {},
   "outputs": [
    {
     "name": "stdout",
     "output_type": "stream",
     "text": [
      "SARO_RS14300 2\n",
      "Saro_2864 1\n",
      "SARO_RS14530 2\n"
     ]
    }
   ],
   "source": [
    "for g in nombres_genes:\n",
    "    print(g,len(model2.genes.get_by_id(g).reactions))"
   ]
  },
  {
   "cell_type": "code",
   "execution_count": 14,
   "metadata": {},
   "outputs": [],
   "source": [
    "def creaSoportes(modelo,numSoportes,reacciones,valores):\n",
    "    soportes=set()\n",
    "    while len(soportes)<numSoportes:\n",
    "        with modelo:\n",
    "            for k in range(len(valores)):\n",
    "                r=modelo.reactions[reacciones[k]]\n",
    "                r.bounds=valores[k]\n",
    "                    \n",
    "            r2=np.random.choice(modelo.reactions)\n",
    "            modelo.objective=r2\n",
    "            \n",
    "            sol=modelo.optimize(objective_sense=\"maximize\")\n",
    "\n",
    "            if sol.status==\"optimal\":\n",
    "                sop=frozenset([j for j in range(len(sol.fluxes)) if abs(sol.fluxes[j])>10**-12])\n",
    "                soportes.add(sop)\n",
    "        \n",
    "    return(soportes)\n",
    "\n",
    "def identificaTipo(nombre):\n",
    "    if \"(\" in nombre:\n",
    "        indice1=nombre.index(\"(\")\n",
    "        nombre2=nombre[indice1+1:]\n",
    "        indice2=nombre2.index(\")\")\n",
    "        nombre3=nombre2[:indice2] \n",
    "        if \" and \" in nombre3:\n",
    "            tipo=\"SOP\"\n",
    "        if \" or \" in nombre3:\n",
    "            tipo=\"POS\"\n",
    "    else:\n",
    "        tipo=\"SOP\"\n",
    "    return(tipo)\n",
    "\n",
    "def toPOS(nombre,tope=3):\n",
    "\n",
    "    productos=set()    \n",
    "    tipo=identificaTipo(nombre)\n",
    "\n",
    "    if tipo==\"SOP\":\n",
    "        sumandos=nombre.split(\" or \")\n",
    "        for sumando in sumandos:\n",
    "            if \" and \" in sumando:\n",
    "                casos=sumando.split(\" and \")\n",
    "                miCaso=set()\n",
    "                for caso in casos:\n",
    "                    caso2=caso.replace(\"(\",\"\")\n",
    "                    caso3=caso2.replace(\")\",\"\")\n",
    "                    caso4=caso3.replace(\" \",\"\")\n",
    "                    miCaso.add(caso4)\n",
    "\n",
    "                productos.add(frozenset(miCaso))\n",
    "            else:\n",
    "                productos.add(frozenset([sumando]))\n",
    "\n",
    "        CS=set([frozenset()])\n",
    "        for producto in productos:\n",
    "            CS2=set()\n",
    "            for C in CS:\n",
    "                if len(set(C).intersection(producto))==0:\n",
    "                    for a in producto:\n",
    "                        C2=set(C.copy())\n",
    "                        C2.add(a)\n",
    "                        if len(C2)<=tope:\n",
    "                            CS2.add(frozenset(C2))\n",
    "                else:\n",
    "                    CS2.add(C)\n",
    "            CS=CS2\n",
    "\n",
    "        CS3=set()\n",
    "        for C in CS:\n",
    "            bien=True\n",
    "            for C2 in CS:\n",
    "                if not C==C2 and C2.issubset(C):\n",
    "                    bien=False\n",
    "                    break\n",
    "            if bien:\n",
    "                CS3.add(C)\n",
    "    else:\n",
    "        CS2=set()\n",
    "        productos = nombre.split(\" and \")\n",
    "        for producto in productos:\n",
    "            CS=set()\n",
    "            componentes=producto.split(\" or \")\n",
    "            for C in componentes:\n",
    "                C2=C.replace(\"(\",\"\")\n",
    "                C3=C2.replace(\")\",\"\")\n",
    "                C4=C3.replace(\" \",\"\")\n",
    "                CS.add(C4)\n",
    "            CS2.add(frozenset(CS))\n",
    "        CS3=set()\n",
    "        for C in CS2:\n",
    "            bien=True\n",
    "            for C2 in CS2:\n",
    "                if not C==C2 and C2.issubset(C):\n",
    "                    bien=False\n",
    "                    break\n",
    "            if bien:\n",
    "                CS3.add(C)\n",
    "    return(CS3)\n",
    "\n",
    "def asociar(modelo,tope=4):\n",
    "    verbose=False\n",
    "    total=0\n",
    "    asociados=dict()\n",
    "    reacciones=dict()\n",
    "\n",
    "    for num in range(len(modelo.reactions)):\n",
    "        nombre=modelo.reactions[num].gene_reaction_rule\n",
    "        CS3=toPOS(nombre,tope)\n",
    "        k=0\n",
    "        while k<=tope:\n",
    "            mas=0\n",
    "            nivel=set([C for C in CS3 if len(C)==k and not C==frozenset({''})])\n",
    "            if len(nivel)>0:\n",
    "                mios=set()\n",
    "                for caso in nivel:\n",
    "                    mio=set()\n",
    "                    for a in caso:\n",
    "                        mio.add(a)\n",
    "                    mios.add(frozenset(mio))\n",
    "\n",
    "                asociados[(modelo.reactions[num],k)]=mios\n",
    "\n",
    "                for caso in mios:\n",
    "                    if not caso in reacciones:\n",
    "                        reacciones[caso]=set([modelo.reactions[num]])\n",
    "                    else:\n",
    "                        reacciones[caso].add(modelo.reactions[num])\n",
    "                mas+=len(nivel)\n",
    "            total+=mas\n",
    "            k+=1    \n",
    "        if verbose:\n",
    "            print(num,len(modelo.reactions[num].genes),mas)\n",
    "\n",
    "    return(asociados,reacciones)\n",
    "    \n",
    "    \n",
    "def soporteG(soporte,tope,modelo=model2):\n",
    "    sopG=set()\n",
    "    for j in soporte:\n",
    "        r=modelo.reactions[j]\n",
    "        for k in range(1,tope+1):\n",
    "            if (r,k) in asociados:\n",
    "                sopG.update(asociados[(r,k)])\n",
    "\n",
    "    sopG2=set()\n",
    "    for caso in sopG:\n",
    "        poner=True\n",
    "        for caso2 in sopG:\n",
    "            if not caso==caso2 and caso2.issubset(caso):\n",
    "                poner=False\n",
    "                break\n",
    "        if poner:\n",
    "            sopG2.add(caso)\n",
    "    return(sopG2)\n",
    "\n",
    "def chequea(inicio,fin):\n",
    "    respuestas=set()\n",
    "    for i in range(inicio,fin):\n",
    "        if i<len(finales):\n",
    "            C=finales[i]\n",
    "            vale=True\n",
    "            if C in powers:\n",
    "                po=powers[C]\n",
    "            else:\n",
    "                po=set([frozenset(a) for a in mi.powerset(C) if len(a)>0])\n",
    "                powers[C]=po\n",
    "\n",
    "            if len(po.intersection(todosMCS))>0 or len(evitar.intersection(C))>0:\n",
    "                vale=False\n",
    "\n",
    "            if vale:\n",
    "                for sop in misSoportes:\n",
    "                    if len(po.intersection(sopG[sop]))==0:           \n",
    "                        vale=False\n",
    "                        break\n",
    "            if vale:\n",
    "                respuestas.add(C)\n",
    "\n",
    "    return(respuestas)\n"
   ]
  },
  {
   "cell_type": "code",
   "execution_count": 15,
   "metadata": {},
   "outputs": [],
   "source": [
    "def CSV2(modelo,tope,misReacciones,misValores,verbose,evita):\n",
    "    global tiempos\n",
    "    global todosMCS\n",
    "    global evitar\n",
    "    global misSoportes\n",
    "    global listaMias\n",
    "    global listaFinales\n",
    "    global sopG\n",
    "    \n",
    "    global finales\n",
    "    \n",
    "    listaMias=[]\n",
    "    salto=6\n",
    "    \n",
    "    evitar=evita\n",
    "    listaMCS=[]\n",
    "    listaMCS.append(set())\n",
    "    \n",
    "    listaCandidatos=[]\n",
    "    listaCandidatos.append(set([frozenset()]))\n",
    "    todosMCS=set()\n",
    "    cutsets=[set()]\n",
    "    candidatos=[set()]\n",
    "\n",
    "    ts=0\n",
    "    \n",
    "    for i in range(1,tope+1):\n",
    "        if i==1:            \n",
    "            genes=set()\n",
    "            cont=0\n",
    "            for sop in misSoportes:\n",
    "                if not sop in sopG:\n",
    "                    sopG[sop]=soporteG(sop,tope,modelo)\n",
    "                nuevos=[caso for caso in sopG[sop] if len(caso)==1 and len(evitar.intersection(caso))==0]\n",
    "                if cont==0:\n",
    "                    genes.update(nuevos)\n",
    "                else:\n",
    "                    genes=genes.intersection(nuevos)\n",
    "                cont+=1\n",
    "            if verbose:\n",
    "                print(len(genes))\n",
    "            descartados=set()\n",
    "            CST=set()\n",
    "            for caso in genes:\n",
    "                if not caso in descartados:\n",
    "                    with modelo:\n",
    "                        for g in caso:\n",
    "                            modelo.genes.get_by_id(g).knock_out()\n",
    "                        for k in range(len(misValores)):\n",
    "                            r=modelo.reactions[misReacciones[k]]\n",
    "                            r.bounds=misValores[k]\n",
    "                        modelo.objective=0\n",
    "                        sol=modelo.slim_optimize(error_value=-1)\n",
    "                        if sol==-1:\n",
    "                            CST.add(caso)\n",
    "                            todosMCS.add(caso)\n",
    "                        else:\n",
    "                            sol2=modelo.optimize()\n",
    "                            sop=frozenset([j for j in range(len(modelo.reactions)) if abs(sol2.fluxes[j])>10**-8])\n",
    "                            if not sop in sopG:\n",
    "                                sopG[sop]=soporteG(sop,tope,modelo)\n",
    "                                misSoportes.add(sop)\n",
    "                            nuevos=[caso for caso in sopG[sop] if len(caso)==1]\n",
    "                            descartados.update(genes.difference(nuevos))\n",
    "            \n",
    "            cutsets.append(CST)\n",
    "            candidatos.append(genes.difference(CST))\n",
    "            \n",
    "            print(\"Final Fase 1 con\",len(candidatos[1]),\"candidatos y\",len(cutsets[1]),\"cutsets\")\n",
    "\n",
    "            print()\n",
    "       \n",
    "        ############################## Final Fase 1 ############################################\n",
    "    \n",
    "        else:\n",
    "            print(\"Inicio de Fase\",i,\"con\",len(misSoportes),\"soportes\")\n",
    "            iMio=i\n",
    "            \n",
    "            ############################## Parte 1.- Berge #################################### \n",
    "            st1=time.time()\n",
    "            CST2=set()\n",
    "            lista=set([frozenset()])\n",
    "            descartados=set()\n",
    "            cont2=0\n",
    "            long=dict()\n",
    "            for sop in misSoportes:\n",
    "                long[sop]=len(sopG[sop])\n",
    "            sortedSupports= sorted(long.items(), key=lambda x:x[1])\n",
    "            finales=set()\n",
    "            \n",
    "            for t in range(len(misSoportes)):\n",
    "                ################ Para cada soporte #################\n",
    "                item=sortedSupports[t]\n",
    "                sop=item[0]\n",
    "                lista2=set()\n",
    "                for caso in lista:\n",
    "                    sst=time.time()\n",
    "                    if caso in powers:\n",
    "                        po=powers[caso]\n",
    "                    else:\n",
    "                        po=set([frozenset(a) for a in mi.powerset(caso) if len(a)>0])\n",
    "                        powers[caso]=po\n",
    "                    esta=(len(po.intersection(sopG[sop]))>0)\n",
    "                    ts+=(time.time()-sst)\n",
    "                    if esta:\n",
    "                        lista2.add(caso)\n",
    "                    else:\n",
    "                        for caso2 in sopG[sop]:\n",
    "                            if len(caso.union(caso2))<iMio:\n",
    "                                nuevo=caso.union(caso2)\n",
    "                                lista2.add(nuevo)\n",
    "                            if len(caso.union(caso2))==iMio:\n",
    "                                nuevo=caso.union(caso2)\n",
    "                                finales.add(nuevo)\n",
    "                        \n",
    "                \n",
    "                lista4=set()\n",
    "                for C in lista2:\n",
    "                    sst=time.time()\n",
    "                    if C in powers:\n",
    "                        po2=powers[C]\n",
    "                    else:\n",
    "                        po2=set([frozenset(a) for a in mi.powerset(C) if len(a)>0])\n",
    "                        powers[C]=po2\n",
    "                    if len(po2.intersection(todosMCS))==0 and len(evitar.intersection(C))==0:\n",
    "                        lista4.add(C)\n",
    "                    ts+=(time.time()-sst)\n",
    "                cont2+=1\n",
    "                lista=lista4\n",
    "                lista3=[C for C in lista if len(C)<i]\n",
    "                if verbose:\n",
    "                    print(\"Mal\",len(lista3))\n",
    "                if len(lista)>0 and len(lista3)==0:\n",
    "                    break\n",
    "                \n",
    "            \n",
    "                    #break\n",
    "            ########################## He terminado de procesar los soportes ###############\n",
    "            \n",
    "            if verbose:\n",
    "                print(\"Parte paralela\")\n",
    "            \n",
    "            lista3=[C for C in lista if len(C)<i]\n",
    "            \n",
    "            \n",
    "            \n",
    "            misFinales=list(finales)\n",
    "            if verbose:\n",
    "                print(\"Total\",len(misFinales))\n",
    "            lista=set()\n",
    "            numLista=10**6\n",
    "            r=0\n",
    "            while r*numLista<len(misFinales):\n",
    "                maximo=(r+1)*10**6\n",
    "                if len(misFinales)<maximo:\n",
    "                    maximo=len(misFinales)\n",
    "                finales=misFinales[r*numLista:maximo]\n",
    "                if verbose:\n",
    "                    print(r,\"Finales\",r*numLista,maximo)\n",
    "                r+=1\n",
    "                \n",
    "\n",
    "                finales=list(finales)\n",
    "\n",
    "\n",
    "                cpus=mp.cpu_count()\n",
    "                cpus=8\n",
    "\n",
    "                listas=[]\n",
    "\n",
    "                k=0\n",
    "                argus=[]\n",
    "                num=int(np.floor(len(finales)/(cpus-1)))\n",
    "                while k*num<len(finales):\n",
    "                    argus.append((k*num,(k+1)*num))\n",
    "                    k+=1\n",
    "\n",
    "                with mp.Pool(processes=cpus) as mp_pool:\n",
    "                    results=mp_pool.starmap(chequea,argus)\n",
    "\n",
    "                for result in results:\n",
    "                    lista.update(result)\n",
    "\n",
    "\n",
    "\n",
    "            st1=time.time()-st1\n",
    "            st2=time.time()\n",
    "            \n",
    "            cont2=1\n",
    "            \n",
    "            lista2=set()\n",
    "            \n",
    "            listaL=list(lista)\n",
    "            if verbose:\n",
    "                print(len(lista))\n",
    "            \n",
    "            i2=0\n",
    "            while i2 < len(listaL):\n",
    "                if verbose:\n",
    "                    print(i2,len(listaL),len(listaL)-len(descartados))\n",
    "                casos=[]\n",
    "                \n",
    "                contCasos=0\n",
    "                for k in range(i2,len(listaL)):\n",
    "                    if not listaL[k] in descartados:\n",
    "                        casos.append(listaL[k])\n",
    "                        contCasos+=1\n",
    "                    if contCasos>=salto:\n",
    "                        break\n",
    "                i2=k+1\n",
    "                \n",
    "                cont3=0\n",
    "                if len(casos) > 0:\n",
    "                    \n",
    "                    with modelo:\n",
    "                        for caso in casos:\n",
    "                            descartados.add(caso)\n",
    "                            for g in caso:\n",
    "                                modelo.genes.get_by_id(g).knock_out()\n",
    "                        \n",
    "                        for k in range(len(misValores)):\n",
    "                            r=modelo.reactions[misReacciones[k]]\n",
    "                            r.bounds=misValores[k]\n",
    "                        \n",
    "                        sol=modelo.slim_optimize(error_value=-1)\n",
    "                        if sol==-1:\n",
    "                            for caso in casos:\n",
    "                                lista2.add(caso)\n",
    "                        else:\n",
    "                            sol2=modelo.optimize()\n",
    "                            sop=frozenset([j for j in range(len(modelo.reactions)) if abs(sol2.fluxes[j])>10**-8])\n",
    "                            if not sop in sopG:\n",
    "                                sopG[sop]=soporteG(sop,tope,modelo)\n",
    "                                misSoportes.add(sop)\n",
    "                            nuevos=[caso for caso in sopG[sop] if len(caso)>0]\n",
    "                            for C in lista.difference(descartados): \n",
    "                                sst=time.time()\n",
    "                                if C in powers:\n",
    "                                    sub=powers[C]\n",
    "                                else:\n",
    "                                    sub=set([frozenset(a) for a in mi.powerset(C) if len(a)>0])\n",
    "                                    powers[C]=sub\n",
    "                                if len(sub.intersection(sopG[sop]))==0:\n",
    "                                    descartados.add(C)\n",
    "                                ts+=(time.time()-sst)\n",
    "                if verbose:\n",
    "                    print(cont2,i2,contCasos,len(lista.difference(descartados)))\n",
    "                cont2+=1\n",
    "            if verbose:\n",
    "                print()\n",
    "                print(\"Lista2\",len(lista2))\n",
    "                print()\n",
    "            \n",
    "            cutsetsT=set()\n",
    "            \n",
    "            st2=time.time()-st2\n",
    "            st3=time.time()\n",
    "            \n",
    "            if verbose:\n",
    "                print(\"Sin salto\")\n",
    "            descartados=set()\n",
    "            cont=0\n",
    "            for caso in lista2:\n",
    "                if verbose:\n",
    "                    print(len(lista2),len(lista2.difference(descartados)),len(cutsetsT))\n",
    "                cont+=1\n",
    "                if not caso in descartados:\n",
    "                    descartados.add(caso)\n",
    "                    with modelo:\n",
    "                        for g in caso:\n",
    "                            modelo.genes.get_by_id(g).knock_out()\n",
    "                        for k in range(len(misValores)):\n",
    "                            r=modelo.reactions[misReacciones[k]]\n",
    "                            r.bounds=misValores[k]\n",
    "\n",
    "                        sol=modelo.slim_optimize(error_value=-1)\n",
    "                        if sol==-1:\n",
    "                            cutsetsT.add(caso)\n",
    "                            todosMCS.add(caso)\n",
    "                        else:\n",
    "                            sol2=modelo.optimize()\n",
    "                            sop=frozenset([j for j in range(len(modelo.reactions)) if abs(sol2.fluxes[j])>10**-8])\n",
    "                            if not sop in sopG:\n",
    "                                sopG[sop]=soporteG(sop,tope,modelo)\n",
    "                                misSoportes.add(sop)\n",
    "                            nuevos=[caso for caso in sopG[sop] if len(caso)>0]\n",
    "                            for C in lista2.difference(descartados): \n",
    "                                sst=time.time()\n",
    "                                sub=set([frozenset(a) for a in mi.powerset(C) if len(a)>0])\n",
    "                                if len(sub.intersection(sopG[sop]))==0:\n",
    "                                    descartados.add(C)\n",
    "                                ts+=(time.time()-sst)\n",
    "                    if verbose:\n",
    "                        print(cont,len(lista2.difference(descartados)),len(cutsetsT))     \n",
    "                \n",
    "            st3=time.time()-st3\n",
    "\n",
    "            cutsets.append(cutsetsT)\n",
    "        if i>1:\n",
    "            tiempos.append([st1,st2,st3])\n",
    "    \n",
    "    #print(ts)\n",
    "    return(cutsets)\n",
    "                        "
   ]
  },
  {
   "cell_type": "code",
   "execution_count": null,
   "metadata": {},
   "outputs": [],
   "source": []
  },
  {
   "cell_type": "code",
   "execution_count": 85,
   "metadata": {},
   "outputs": [],
   "source": [
    "misReacciones, misValores = [biomass,objetivo],[[0.1,1000],[0,0]]"
   ]
  },
  {
   "cell_type": "code",
   "execution_count": 86,
   "metadata": {},
   "outputs": [
    {
     "name": "stdout",
     "output_type": "stream",
     "text": [
      "CPU times: user 93.8 ms, sys: 1.06 ms, total: 94.9 ms\n",
      "Wall time: 94.3 ms\n"
     ]
    }
   ],
   "source": [
    "%%time\n",
    "tope=4\n",
    "asociados,reacciones=asociar(model2,tope)\n",
    "sopG=dict()\n",
    "misSoportes=creaSoportes(model2,tope,misReacciones,misValores)\n",
    "for sop in misSoportes:\n",
    "    sopG[sop]=soporteG(sop,tope,model2)"
   ]
  },
  {
   "cell_type": "code",
   "execution_count": 87,
   "metadata": {},
   "outputs": [
    {
     "name": "stdout",
     "output_type": "stream",
     "text": [
      "Final Fase 1 con 12 candidatos y 168 cutsets\n",
      "\n",
      "Inicio de Fase 2 con 13 soportes\n",
      "Inicio de Fase 3 con 51 soportes\n",
      "Inicio de Fase 4 con 201 soportes\n",
      "CPU times: user 17.3 s, sys: 543 ms, total: 17.9 s\n",
      "Wall time: 20.8 s\n"
     ]
    }
   ],
   "source": [
    "%%time\n",
    "tiempos=[]\n",
    "powers=dict()\n",
    "CS1=CSV2(model2,tope,misReacciones,misValores,False,set())"
   ]
  },
  {
   "cell_type": "code",
   "execution_count": 88,
   "metadata": {},
   "outputs": [
    {
     "name": "stdout",
     "output_type": "stream",
     "text": [
      "0 0\n",
      "1 168\n",
      "2 72\n",
      "3 38\n",
      "4 91\n"
     ]
    }
   ],
   "source": [
    "for i,C in enumerate(CS1):\n",
    "    print(i,len(C))"
   ]
  },
  {
   "cell_type": "code",
   "execution_count": null,
   "metadata": {},
   "outputs": [],
   "source": []
  },
  {
   "cell_type": "markdown",
   "metadata": {},
   "source": [
    "Comprobar que todos son cutsets"
   ]
  },
  {
   "cell_type": "code",
   "execution_count": 89,
   "metadata": {},
   "outputs": [
    {
     "name": "stdout",
     "output_type": "stream",
     "text": [
      "1\n",
      "2\n",
      "3\n",
      "4\n",
      "CPU times: user 809 ms, sys: 6.82 ms, total: 815 ms\n",
      "Wall time: 817 ms\n"
     ]
    }
   ],
   "source": [
    "%%time\n",
    "\n",
    "for i in range(1,len(CS1)):\n",
    "    print(i)\n",
    "    for caso in CS1[i]:\n",
    "        with model2:\n",
    "            for g in caso:\n",
    "                model2.genes.get_by_id(g).knock_out()\n",
    "            model2.reactions[biomass].bounds=[1,1000]\n",
    "            model2.reactions.ExportaPDC.lower_bound=0\n",
    "            model2.reactions.ExportaPDC.upper_bound=0\n",
    "\n",
    "            sol=model2.slim_optimize(error_value=-1)\n",
    "            if not sol==-1:\n",
    "                print(\"Fallo\")"
   ]
  },
  {
   "cell_type": "markdown",
   "metadata": {},
   "source": [
    "Comprobar que son minimales"
   ]
  },
  {
   "cell_type": "code",
   "execution_count": 90,
   "metadata": {},
   "outputs": [
    {
     "name": "stdout",
     "output_type": "stream",
     "text": [
      "1\n",
      "2\n",
      "3\n",
      "4\n"
     ]
    }
   ],
   "source": [
    "for i in range(1,len(CS1)):\n",
    "    print(i)\n",
    "    for j in range(i+1,len(CS1)):\n",
    "        for caso in CS1[i]:\n",
    "            for caso2 in CS1[j]:\n",
    "                if caso.issubset(caso2):\n",
    "                    print(\"Fallo\")"
   ]
  }
 ],
 "metadata": {
  "kernelspec": {
   "display_name": "Python3.6",
   "language": "python",
   "name": "python3.6"
  },
  "language_info": {
   "codemirror_mode": {
    "name": "ipython",
    "version": 3
   },
   "file_extension": ".py",
   "mimetype": "text/x-python",
   "name": "python",
   "nbconvert_exporter": "python",
   "pygments_lexer": "ipython3",
   "version": "3.6.8"
  }
 },
 "nbformat": 4,
 "nbformat_minor": 4
}
